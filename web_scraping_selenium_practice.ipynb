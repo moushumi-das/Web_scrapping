{
 "cells": [
  {
   "cell_type": "code",
   "execution_count": 27,
   "metadata": {},
   "outputs": [],
   "source": [
    "import selenium\n",
    "from selenium import webdriver\n",
    "from selenium.webdriver.chrome.options import Options\n",
    "from selenium.webdriver import Chrome\n",
    "import pandas as pd\n",
    "import time"
   ]
  },
  {
   "cell_type": "code",
   "execution_count": 28,
   "metadata": {},
   "outputs": [],
   "source": [
    "brand_name=[]\n",
    "prices=[]\n",
    "ratings=[]\n",
    "titles=[]\n",
    "shipping_cost=[]\n",
    "pages=[]\n",
    "page=1"
   ]
  },
  {
   "cell_type": "code",
   "execution_count": 29,
   "metadata": {},
   "outputs": [],
   "source": [
    "path=\"C:\\Program Files (x86)\\chromedriver.exe\"\n",
    "\n"
   ]
  },
  {
   "cell_type": "code",
   "execution_count": 39,
   "metadata": {},
   "outputs": [
    {
     "name": "stdout",
     "output_type": "stream",
     "text": [
      "[<selenium.webdriver.remote.webelement.WebElement (session=\"18f4cfad6fb236815746807afcbdaa0e\", element=\"45726237-a845-48a0-8e44-60c29d7c365f\")>]\n",
      "£51.77\n",
      "Three\n",
      "A Light in the Attic\n",
      "In stock\n",
      "£53.74\n",
      "One\n",
      "Tipping the Velvet\n",
      "In stock\n",
      "£50.10\n",
      "One\n",
      "Soumission\n",
      "In stock\n",
      "£47.82\n",
      "Four\n",
      "Sharp Objects\n",
      "In stock\n",
      "£54.23\n",
      "Five\n",
      "Sapiens: A Brief History of Humankind\n",
      "In stock\n",
      "£22.65\n",
      "One\n",
      "The Requiem Red\n",
      "In stock\n",
      "£33.34\n",
      "Four\n",
      "The Dirty Little Secrets of Getting Your Dream Job\n",
      "In stock\n",
      "£17.93\n",
      "Three\n",
      "The Coming Woman: A Novel Based on the Life of the Infamous Feminist, Victoria Woodhull\n",
      "In stock\n",
      "£22.60\n",
      "Four\n",
      "The Boys in the Boat: Nine Americans and Their Epic Quest for Gold at the 1936 Berlin Olympics\n",
      "In stock\n",
      "£52.15\n",
      "One\n",
      "The Black Maria\n",
      "In stock\n",
      "£13.99\n",
      "Two\n",
      "Starving Hearts (Triangular Trade Trilogy, #1)\n",
      "In stock\n",
      "£20.66\n",
      "Four\n",
      "Shakespeare's Sonnets\n",
      "In stock\n",
      "£17.46\n",
      "Five\n",
      "Set Me Free\n",
      "In stock\n",
      "£52.29\n",
      "Five\n",
      "Scott Pilgrim's Precious Little Life (Scott Pilgrim #1)\n",
      "In stock\n",
      "£35.02\n",
      "Five\n",
      "Rip it Up and Start Again\n",
      "In stock\n",
      "£57.25\n",
      "Three\n",
      "Our Band Could Be Your Life: Scenes from the American Indie Underground, 1981-1991\n",
      "In stock\n",
      "£23.88\n",
      "One\n",
      "Olio\n",
      "In stock\n",
      "£37.59\n",
      "One\n",
      "Mesaerion: The Best Science Fiction Stories 1800-1849\n",
      "In stock\n",
      "£51.33\n",
      "Two\n",
      "Libertarianism for Beginners\n",
      "In stock\n",
      "£45.17\n",
      "Two\n",
      "It's Only the Himalayas\n",
      "In stock\n"
     ]
    }
   ],
   "source": [
    "\n",
    "driver = webdriver.Chrome(path)\n",
    "url=(\"http://books.toscrape.com/catalogue/category/books_1/page-{}.html\").format(i)\n",
    "driver.get(url)\n",
    "\n",
    "content = driver.find_elements_by_css_selector('ol.row')\n",
    "print(content)\n",
    "for j in content:\n",
    "  \n",
    "    for b in j.find_elements_by_css_selector('article.product_pod'):\n",
    "        \n",
    "        prices = b.find_elements_by_css_selector('div.product_price p.price_color')[0].text\n",
    "        print(prices)\n",
    "        ratings =b.find_elements_by_css_selector('p')[0].get_attribute(\"class\").split()[-1]\n",
    "        print(ratings)\n",
    "        title = b.find_elements_by_css_selector('img')[0].get_attribute(\"alt\")\n",
    "        print( title)\n",
    "        in_stock = b.find_elements_by_css_selector('div.product_price p.instock.availability')[0].text\n",
    "        print( in_stock)\n",
    "    next = driver.find_elements_by_css_selector('li.next a')[0].click()"
   ]
  },
  {
   "cell_type": "code",
   "execution_count": null,
   "metadata": {},
   "outputs": [],
   "source": []
  }
 ],
 "metadata": {
  "kernelspec": {
   "display_name": "Python 3",
   "language": "python",
   "name": "python3"
  },
  "language_info": {
   "codemirror_mode": {
    "name": "ipython",
    "version": 3
   },
   "file_extension": ".py",
   "mimetype": "text/x-python",
   "name": "python",
   "nbconvert_exporter": "python",
   "pygments_lexer": "ipython3",
   "version": "3.7.6"
  }
 },
 "nbformat": 4,
 "nbformat_minor": 4
}
